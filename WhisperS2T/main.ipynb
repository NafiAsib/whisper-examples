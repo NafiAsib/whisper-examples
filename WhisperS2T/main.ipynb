{
 "cells": [
  {
   "cell_type": "code",
   "execution_count": 17,
   "metadata": {},
   "outputs": [
    {
     "name": "stdout",
     "output_type": "stream",
     "text": [
      "/Users/nafi/miniconda3/envs/stt_env/lib/python3.10/site-packages/whisper_s2t/__init__.py\n"
     ]
    }
   ],
   "source": [
    "import whisper_s2t\n",
    "import os\n",
    "print(whisper_s2t.__file__)"
   ]
  },
  {
   "cell_type": "code",
   "execution_count": 18,
   "metadata": {},
   "outputs": [
    {
     "name": "stdout",
     "output_type": "stream",
     "text": [
      "Loading Whisper model...\n"
     ]
    },
    {
     "name": "stderr",
     "output_type": "stream",
     "text": [
      "Fetching 4 files: 100%|██████████| 4/4 [00:00<00:00, 83468.74it/s]\n"
     ]
    },
    {
     "name": "stdout",
     "output_type": "stream",
     "text": [
      "\n",
      "Available Input Devices:\n",
      "Device 0: MacBook Pro Microphone\n",
      "Device 2: Microsoft Teams Audio\n",
      "\n",
      "Preparing to record...\n",
      "3...\n",
      "2...\n",
      "1...\n",
      "Recording for 10 seconds...\n",
      "Audio Level:                                                   \n",
      "Recording finished!\n",
      "\n",
      "Audio saved as: recording_20250101_211115.wav\n",
      "\n",
      "Transcribing...\n"
     ]
    },
    {
     "name": "stderr",
     "output_type": "stream",
     "text": [
      "Transcribing: 100%|██████████| 100/100 [00:04<00:00, 20.71it/s]\n"
     ]
    },
    {
     "name": "stdout",
     "output_type": "stream",
     "text": [
      "\n",
      "Transcription: I have had rice at dinner. What did you have?\n"
     ]
    }
   ],
   "source": [
    "import datetime\n",
    "import os\n",
    "import time  # Add this import\n",
    "\n",
    "def record_audio(duration=10, sample_rate=16000):\n",
    "    # Initialize PyAudio\n",
    "    p = pyaudio.PyAudio()\n",
    "    \n",
    "    # List available input devices\n",
    "    print(\"\\nAvailable Input Devices:\")\n",
    "    for i in range(p.get_device_count()):\n",
    "        dev = p.get_device_info_by_index(i)\n",
    "        if dev.get('maxInputChannels') > 0:  # Only show input devices\n",
    "            print(f\"Device {i}: {dev.get('name')}\")\n",
    "    \n",
    "    # Open stream with better settings\n",
    "    stream = p.open(format=pyaudio.paInt16,\n",
    "                   channels=1,\n",
    "                   rate=sample_rate,\n",
    "                   input=True,\n",
    "                   frames_per_buffer=1024,\n",
    "                   input_device_index=None)  # Uses default device\n",
    "    \n",
    "    print(\"\\nPreparing to record...\")\n",
    "    print(\"3...\")\n",
    "    time.sleep(1)\n",
    "    print(\"2...\")\n",
    "    time.sleep(1)\n",
    "    print(\"1...\")\n",
    "    time.sleep(1)\n",
    "    print(f\"Recording for {duration} seconds...\")\n",
    "    \n",
    "    frames = []\n",
    "    \n",
    "    # Add audio level feedback while recording\n",
    "    for _ in range(0, int(sample_rate / 1024 * duration)):\n",
    "        data = stream.read(1024, exception_on_overflow=False)\n",
    "        frames.append(data)\n",
    "        # Show audio level (optional)\n",
    "        audio_data = np.frombuffer(data, dtype=np.int16)\n",
    "        level = np.abs(audio_data).mean()\n",
    "        bars = int(50 * level / 10000)\n",
    "        print(f\"\\rAudio Level: {'|' * bars}{' ' * (50-bars)}\", end='', flush=True)\n",
    "    \n",
    "    print(\"\\nRecording finished!\")\n",
    "    \n",
    "    # Stop and close the stream\n",
    "    stream.stop_stream()\n",
    "    stream.close()\n",
    "    p.terminate()\n",
    "    \n",
    "    # Generate filename with timestamp\n",
    "    timestamp = datetime.datetime.now().strftime(\"%Y%m%d_%H%M%S\")\n",
    "    filename = f\"recording_{timestamp}.wav\"\n",
    "    \n",
    "    # Save to current directory\n",
    "    wf = wave.open(filename, 'wb')\n",
    "    wf.setnchannels(1)\n",
    "    wf.setsampwidth(2)  # for paInt16\n",
    "    wf.setframerate(sample_rate)\n",
    "    wf.writeframes(b''.join(frames))\n",
    "    wf.close()\n",
    "    \n",
    "    print(f\"\\nAudio saved as: {filename}\")\n",
    "    return filename\n",
    "\n",
    "# Load the model\n",
    "print(\"Loading Whisper model...\")\n",
    "model = whisper_s2t.load_model(\n",
    "    model_identifier=\"large-v2\", \n",
    "    backend='CTranslate2',\n",
    "    device=\"cpu\",\n",
    "    compute_type=\"int8\"\n",
    ")\n",
    "\n",
    "while True:\n",
    "    # Ask user if they want to record\n",
    "    response = input(\"\\nPress Enter to start recording (or 'q' to quit): \")\n",
    "    if response.lower() == 'q':\n",
    "        break\n",
    "        \n",
    "    # Record audio\n",
    "    audio_file = record_audio(duration=10)  # You can adjust duration here\n",
    "    \n",
    "    print(\"\\nTranscribing...\")\n",
    "    out = model.transcribe_with_vad([audio_file],\n",
    "                                   lang_codes=['en'],\n",
    "                                   tasks=['transcribe'],\n",
    "                                   initial_prompts=[None],\n",
    "                                   batch_size=32)\n",
    "    \n",
    "    print(\"\\nTranscription:\", out[0][0]['text'])"
   ]
  },
  {
   "cell_type": "code",
   "execution_count": null,
   "metadata": {},
   "outputs": [],
   "source": []
  }
 ],
 "metadata": {
  "kernelspec": {
   "display_name": "stt_env",
   "language": "python",
   "name": "python3"
  },
  "language_info": {
   "codemirror_mode": {
    "name": "ipython",
    "version": 3
   },
   "file_extension": ".py",
   "mimetype": "text/x-python",
   "name": "python",
   "nbconvert_exporter": "python",
   "pygments_lexer": "ipython3",
   "version": "3.10.16"
  }
 },
 "nbformat": 4,
 "nbformat_minor": 2
}
